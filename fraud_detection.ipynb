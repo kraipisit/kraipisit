{
  "nbformat": 4,
  "nbformat_minor": 0,
  "metadata": {
    "colab": {
      "private_outputs": true,
      "provenance": [],
      "mount_file_id": "1HK8MkpPCH-436bw_AVoHNR8PIe3SLYaY",
      "authorship_tag": "ABX9TyPmZfqMBTQEvGUEJqyBvrKn",
      "include_colab_link": true
    },
    "kernelspec": {
      "name": "python3",
      "display_name": "Python 3"
    },
    "language_info": {
      "name": "python"
    },
    "gpuClass": "standard"
  },
  "cells": [
    {
      "cell_type": "markdown",
      "metadata": {
        "id": "view-in-github",
        "colab_type": "text"
      },
      "source": [
        "<a href=\"https://colab.research.google.com/github/kraipisit/kraipisit/blob/main/fraud_detection.ipynb\" target=\"_parent\"><img src=\"https://colab.research.google.com/assets/colab-badge.svg\" alt=\"Open In Colab\"/></a>"
      ]
    },
    {
      "cell_type": "markdown",
      "source": [
        "# Fraud Detection, EDA, Modeling"
      ],
      "metadata": {
        "id": "lA7_AQxdJZeD"
      }
    },
    {
      "cell_type": "code",
      "execution_count": null,
      "metadata": {
        "id": "gmY_OcN7JDWZ"
      },
      "outputs": [],
      "source": [
        "import pandas as pd\n",
        "import numpy as np\n",
        "import seaborn as sns\n",
        "import matplotlib.pyplot as plt\n",
        "from sklearn.preprocessing import OrdinalEncoder\n",
        "from sklearn.preprocessing import OneHotEncoder\n",
        "from sklearn.pipeline import Pipeline\n",
        "from sklearn.preprocessing import StandardScaler\n",
        "from sklearn.compose import ColumnTransformer\n",
        "from sklearn.model_selection import train_test_split\n",
        "from sklearn.model_selection import cross_val_predict\n",
        "from sklearn.metrics import confusion_matrix,precision_score,recall_score\n",
        "from sklearn.linear_model import LogisticRegression\n",
        "from sklearn.model_selection import cross_val_score,cross_val_predict\n",
        "from sklearn.model_selection import KFold\n",
        "from sklearn.metrics import precision_score, recall_score, accuracy_score,f1_score\n",
        "from warnings import simplefilter\n",
        "from sklearn.neighbors import KNeighborsClassifier\n",
        "from sklearn.metrics import plot_precision_recall_curve\n",
        "from sklearn.metrics import plot_roc_curve\n",
        "from sklearn.model_selection import GridSearchCV,RandomizedSearchCV"
      ]
    },
    {
      "cell_type": "markdown",
      "source": [
        "\n",
        "# Fraud detection in online transactions¶\n"
      ],
      "metadata": {
        "id": "6QcJhC99Letg"
      }
    },
    {
      "cell_type": "code",
      "source": [
        "import os\n",
        "for dirname, _, filenames in os.walk('/content/drive/MyDrive/fraud/Fraud.csv'):\n",
        "    for filename in filenames:\n",
        "        print(os.path.join(dirname, filename))"
      ],
      "metadata": {
        "id": "FosR_O5sLoFA"
      },
      "execution_count": null,
      "outputs": []
    },
    {
      "cell_type": "code",
      "source": [
        "df = pd.read_csv('/content/drive/MyDrive/fraud/Fraud.csv')"
      ],
      "metadata": {
        "id": "yWX9FYuJMC9j"
      },
      "execution_count": null,
      "outputs": []
    },
    {
      "cell_type": "markdown",
      "source": [
        "# Data Structure¶\n"
      ],
      "metadata": {
        "id": "wqO_JF38OL2P"
      }
    },
    {
      "cell_type": "code",
      "source": [
        "df.shape"
      ],
      "metadata": {
        "id": "e3Uo1B-AOVQ1"
      },
      "execution_count": null,
      "outputs": []
    },
    {
      "cell_type": "code",
      "source": [
        "df.head()"
      ],
      "metadata": {
        "id": "lo26fxZNOcA1"
      },
      "execution_count": null,
      "outputs": []
    },
    {
      "cell_type": "markdown",
      "source": [
        "# Data Cleaning¶**\n",
        "\n",
        "Checking* for null values\n",
        "\n",
        "Checking* for duplicates\n",
        "\n",
        "Checking* on data types \n",
        "\n",
        "\n"
      ],
      "metadata": {
        "id": "Qkgn9Oa0VLAd"
      }
    },
    {
      "cell_type": "code",
      "source": [
        "df = df.dropna()"
      ],
      "metadata": {
        "id": "V505POgFTbLQ"
      },
      "execution_count": null,
      "outputs": []
    },
    {
      "cell_type": "code",
      "source": [
        "df"
      ],
      "metadata": {
        "id": "Y_k2-o15YQz2"
      },
      "execution_count": null,
      "outputs": []
    },
    {
      "cell_type": "code",
      "source": [
        "df.drop_duplicates(['amount', 'oldbalanceOrg', 'newbalanceOrig', 'oldbalanceDest', 'newbalanceDest'], inplace=True)\n",
        "# Reset dataframe index after drop_duplicates.\n",
        "df.reset_index(drop=True, inplace=True)\n",
        "len(df)\n"
      ],
      "metadata": {
        "id": "FgL9Eg68Rl4V"
      },
      "execution_count": null,
      "outputs": []
    },
    {
      "cell_type": "code",
      "source": [
        "df.isnull().sum()"
      ],
      "metadata": {
        "id": "7nDwHmHaU1Ab"
      },
      "execution_count": null,
      "outputs": []
    },
    {
      "cell_type": "code",
      "source": [
        "df.duplicated().sum()"
      ],
      "metadata": {
        "id": "5rZwXf70WTFe"
      },
      "execution_count": null,
      "outputs": []
    },
    {
      "cell_type": "code",
      "source": [
        "df.dtypes"
      ],
      "metadata": {
        "id": "2Nj-I7a9Wdpw"
      },
      "execution_count": null,
      "outputs": []
    },
    {
      "cell_type": "code",
      "source": [
        "df.info()"
      ],
      "metadata": {
        "id": "gO6GHMh-OqzL"
      },
      "execution_count": null,
      "outputs": []
    },
    {
      "cell_type": "code",
      "source": [
        "df.describe()"
      ],
      "metadata": {
        "id": "qj0QZ3QUPspM"
      },
      "execution_count": null,
      "outputs": []
    },
    {
      "cell_type": "code",
      "source": [
        "len (df[ df.duplicated(['amount', 'oldbalanceOrg', 'newbalanceOrig', 'oldbalanceDest', 'newbalanceDest'], keep = False) ])"
      ],
      "metadata": {
        "id": "JgcrmNFhP4OX"
      },
      "execution_count": null,
      "outputs": []
    },
    {
      "cell_type": "markdown",
      "source": [
        "# Initial Analysis and visualization\n",
        "Studying Correlation:"
      ],
      "metadata": {
        "id": "MqZcFUn4Wjmc"
      }
    },
    {
      "cell_type": "code",
      "source": [
        "cor = df.corr()\n",
        "cor"
      ],
      "metadata": {
        "id": "6EpFfuEcWodo"
      },
      "execution_count": null,
      "outputs": []
    },
    {
      "cell_type": "code",
      "source": [
        "plt.figure(figsize = (16,8))\n",
        "ax=sns.heatmap(df.corr(method ='pearson'),annot=True,vmin=-1, vmax=1)"
      ],
      "metadata": {
        "id": "Kgcfo7BeWsqr"
      },
      "execution_count": null,
      "outputs": []
    },
    {
      "cell_type": "markdown",
      "source": [
        "# Time Stamp¶\n"
      ],
      "metadata": {
        "id": "5FRqIUzMW0vY"
      }
    },
    {
      "cell_type": "code",
      "source": [
        "df['day_of_month'] =np.ceil(df['step']/24)"
      ],
      "metadata": {
        "id": "f9duDurEW1Gw"
      },
      "execution_count": null,
      "outputs": []
    },
    {
      "cell_type": "markdown",
      "source": [
        "# types of transactions¶\n"
      ],
      "metadata": {
        "id": "1tCc7PkUXA-c"
      }
    },
    {
      "cell_type": "code",
      "source": [
        "sns.countplot(x='type',data=df,order=df['type'].value_counts().index,color = 'blue')"
      ],
      "metadata": {
        "id": "X-37bLtLXCry"
      },
      "execution_count": null,
      "outputs": []
    },
    {
      "cell_type": "markdown",
      "source": [
        "# types of transactions where fraud occurs¶\n",
        "\n",
        "ประเภทของธุรกรรมที่เกิดการฉ้อโกง\n",
        "\n",
        "\n"
      ],
      "metadata": {
        "id": "4QlC6t8_XGcc"
      }
    },
    {
      "cell_type": "code",
      "source": [
        "df[df['isFraud']==1].groupby('type')['isFraud'].count()"
      ],
      "metadata": {
        "id": "tCIZSYpiXGsV"
      },
      "execution_count": null,
      "outputs": []
    },
    {
      "cell_type": "markdown",
      "source": [
        "# Fradulant transactions only occurs in cash out and transfer transactions\n",
        "\n",
        " ธุรกรรมฉ้อโกงเกิดขึ้นเฉพาะในการทำธุรกรรมเงินสดออกและโอน\n"
      ],
      "metadata": {
        "id": "eEHCZqQPXRxc"
      }
    },
    {
      "cell_type": "code",
      "source": [
        "ct = df[df['type'].isin(['CASH_OUT','TRANSFER'])]"
      ],
      "metadata": {
        "id": "UGyUwVCCXR6S"
      },
      "execution_count": null,
      "outputs": []
    },
    {
      "cell_type": "code",
      "source": [
        "fraud_in_cash = ct[ct['type'] == 'CASH_OUT']\n",
        "fraud_in_cash[fraud_in_cash['isFraud'] == 1]"
      ],
      "metadata": {
        "id": "eyncSG96Xafg"
      },
      "execution_count": null,
      "outputs": []
    },
    {
      "cell_type": "markdown",
      "source": [
        "# In fraudulant transactions of type cash out, it's noticed that the origin balance goes back to zero after the cash out\n",
        "\n",
        "\n",
        "ในการทำธุรกรรมที่เป็นการฉ้อโกงประเภทการถอนเงินสด จะสังเกตเห็นว่ายอดดุลต้นทางกลับเป็นศูนย์หลังจากถอนเงินสดออก"
      ],
      "metadata": {
        "id": "YzQQ1D7VXXis"
      }
    },
    {
      "cell_type": "code",
      "source": [
        "fraud_in_transfer = ct[ct['type'] == 'TRANSFER']\n",
        "fraud_in_transfer[fraud_in_transfer['isFraud'] == 1]"
      ],
      "metadata": {
        "id": "HiTj6EhQXXzW"
      },
      "execution_count": null,
      "outputs": []
    },
    {
      "cell_type": "markdown",
      "source": [
        "in Fraudulant transaction of type transfer it's noticed that the whole amount in the account of origin is emptied, with no access on Destination balance\n",
        "\n",
        "ในธุรกรรมฉ้อโกงประเภทการโอน สังเกตว่า ยอดเงินทั้งหมดในบัญชีต้นทางว่างเปล่า เข้าถึงยอดคงเหลือปลายทางไม่ได้\n",
        "\n",
        "\n",
        "\n",
        "\n"
      ],
      "metadata": {
        "id": "gDb8hIo_XwQv"
      }
    },
    {
      "cell_type": "code",
      "source": [
        "sns.scatterplot(data= ct , x = 'day_of_month', y='amount',hue = 'type')"
      ],
      "metadata": {
        "id": "MC4qWbaWXwm4"
      },
      "execution_count": null,
      "outputs": []
    },
    {
      "cell_type": "markdown",
      "source": [
        "# visualizing Data Distribution¶\n"
      ],
      "metadata": {
        "id": "0XeVTVEuYI_U"
      }
    },
    {
      "cell_type": "code",
      "source": [
        "bin_values = np.arange(start=0, stop=1000000, step=1000)\n",
        "g = sns.histplot(df['amount'],bins=bin_values)"
      ],
      "metadata": {
        "id": "Oj0mK60NYOET"
      },
      "execution_count": null,
      "outputs": []
    },
    {
      "cell_type": "code",
      "source": [
        "bin_values = np.arange(start=0, stop=4000000, step=200000)\n",
        "fig, axes = plt.subplots(1, 4,figsize=(15,5),sharey=True)\n",
        "fig.suptitle('Studying data distribution in normal transactions')\n",
        "sns.histplot(ax = axes[0],x='oldbalanceOrg',bins=bin_values,data=df[df['isFraud']==0],color = 'green')\n",
        "sns.histplot(ax = axes[1],x='newbalanceOrig',bins=bin_values,data=df[df['isFraud']==0],color = 'green')\n",
        "sns.histplot(ax = axes[2],x='oldbalanceDest',bins=bin_values,data=df[df['isFraud']==0],color = 'green')\n",
        "sns.histplot(ax = axes[3],x='newbalanceDest',bins=bin_values,data=df[df['isFraud']==0],color = 'green')"
      ],
      "metadata": {
        "id": "JW3p177OYY7m"
      },
      "execution_count": null,
      "outputs": []
    },
    {
      "cell_type": "code",
      "source": [
        "in_values = np.arange(start=0, stop=4000000, step=200000)\n",
        "fig, axes = plt.subplots(1, 4,figsize=(15,5),sharey=True)\n",
        "fig.suptitle('Studying data distribution in fraudelant transactions')\n",
        "sns.histplot(ax = axes[0],x='oldbalanceOrg',bins=bin_values,data=df[df['isFraud']==1],color = 'red')\n",
        "sns.histplot(ax = axes[1],x='newbalanceOrig',bins=bin_values,data=df[df['isFraud']==1],color = 'red')\n",
        "sns.histplot(ax = axes[2],x='oldbalanceDest',bins=bin_values,data=df[df['isFraud']==1],color = 'red')\n",
        "sns.histplot(ax = axes[3],x='newbalanceDest',bins=bin_values,data=df[df['isFraud']==1],color = 'red')"
      ],
      "metadata": {
        "id": "0hGHj8gmYyO3"
      },
      "execution_count": null,
      "outputs": []
    },
    {
      "cell_type": "markdown",
      "source": [
        "# Data Distribution is right Skewed, peek at zero\n",
        "\n",
        "การกระจายข้อมูลถูกต้อง เบ้ ดูที่ศูนย์"
      ],
      "metadata": {
        "id": "uZbSEp2cYyZC"
      }
    },
    {
      "cell_type": "code",
      "source": [
        "a = sns.countplot(x= df['isFraud'])\n",
        "a.set(yscale=\"log\")"
      ],
      "metadata": {
        "id": "XBu95-NFY71_"
      },
      "execution_count": null,
      "outputs": []
    },
    {
      "cell_type": "markdown",
      "source": [
        "Due to the problem Nature, fraudulant transactions are very little amount campared to total transactions\n",
        "\n",
        "\n",
        "เนื่องจากปัญหาของธรรมชาติ ธุรกรรมที่เป็นการฉ้อโกงจึงมีการกำหนดจำนวนน้อยมากในการทำธุรกรรมทั้งหมด\n",
        "\n",
        "\n",
        "# Categorical variables study\n",
        "\n",
        "#การศึกษาตัวแปรเชิงหมวดหมู่\n"
      ],
      "metadata": {
        "id": "3cKTIK3WZEcw"
      }
    },
    {
      "cell_type": "code",
      "source": [
        "df[['type', 'nameOrig', 'nameDest','isFlaggedFraud']]"
      ],
      "metadata": {
        "id": "YL7zLzK1ZESn"
      },
      "execution_count": null,
      "outputs": []
    },
    {
      "cell_type": "markdown",
      "source": [
        "# Extracting 2 new columns by the digit in the start of the name columns\n",
        "\n",
        "แยกคอลัมน์ใหม่ 2 คอลัมน์ด้วยตัวเลขในตอนต้นของคอลัมน์ชื่อ\n",
        "\n",
        "\n",
        "\n"
      ],
      "metadata": {
        "id": "8rGvf2JFZUNq"
      }
    },
    {
      "cell_type": "code",
      "source": [
        "df['nameOrig_code'] = df['nameOrig'].str[:1]\n",
        "df['nameDest_code'] = df['nameDest'].str[:1]"
      ],
      "metadata": {
        "id": "Jj6BLablZYoS"
      },
      "execution_count": null,
      "outputs": []
    },
    {
      "cell_type": "code",
      "source": [
        "df[['nameDest_code','nameOrig_code']].value_counts()"
      ],
      "metadata": {
        "id": "nFi0gxYWZb4E"
      },
      "execution_count": null,
      "outputs": []
    },
    {
      "cell_type": "markdown",
      "source": [
        "we can drop nameOrig_code as it is static wouldn't be useful in or analysis\n",
        "\n",
        "\n",
        "\n",
        "เราสามารถวาง nameOrig_code ได้เนื่องจากเป็นแบบคงที่จะไม่มีประโยชน์ในหรือการวิเคราะห์"
      ],
      "metadata": {
        "id": "ITKEUgIxZgYk"
      }
    },
    {
      "cell_type": "markdown",
      "source": [
        "Numerical variables study:\n",
        "\n",
        "การศึกษาตัวแปรเชิงตัวเลข\n",
        "\n",
        "\n",
        "\n",
        "\n",
        "\n",
        "\n",
        "Studying Outliers:\n",
        "\n",
        "การศึกษาค่าผิดปกติ"
      ],
      "metadata": {
        "id": "UUjFq6nqZp9V"
      }
    },
    {
      "cell_type": "code",
      "source": [
        "num_cols = ['step','oldbalanceOrg', 'newbalanceOrig',\n",
        "        'oldbalanceDest', 'newbalanceDest','amount']\n",
        "for col in num_cols:\n",
        "    Q1,Q3 = np.percentile(df[col], [25,75])\n",
        "    IQR = Q3 - Q1\n",
        "    ul = Q3+1.5*IQR\n",
        "    ll = Q1-1.5*IQR\n",
        "    outliers = df[col][(df[col] > ul) | (df[col] < ll)]\n",
        "    print(f'{col}:{len(outliers)}')"
      ],
      "metadata": {
        "id": "uoUG8GXCZtMF"
      },
      "execution_count": null,
      "outputs": []
    },
    {
      "cell_type": "code",
      "source": [
        "df.shape"
      ],
      "metadata": {
        "id": "T1rUYTXFo9Iw"
      },
      "execution_count": null,
      "outputs": []
    },
    {
      "cell_type": "markdown",
      "source": [
        "# from the previous Analysis we conclude the need to :\n",
        "\n",
        "\n",
        "under-sample our data, due to the imbalance\n",
        "\n",
        "\n",
        "Scale the data due to the outliers\n",
        "\n",
        "\n",
        "\n",
        "\n",
        "# Under Sampling\n",
        "\n",
        "\n",
        "\n",
        "จากการวิเคราะห์ครั้งก่อน เราสรุปความจำเป็นในการ :\n",
        "\n",
        "ข้อมูลของเราต่ำกว่าตัวอย่างเนื่องจากความไม่สมดุล\n",
        "\n",
        "ปรับขนาดข้อมูลเนื่องจากค่าผิดปกติ\n",
        "\n",
        "ภายใต้การสุ่มตัวอย่าง\n",
        "\n"
      ],
      "metadata": {
        "id": "2kSJibC2Zxbu"
      }
    },
    {
      "cell_type": "code",
      "source": [
        "def underSampling(df,target):\n",
        "    down = min(df[target].value_counts())\n",
        "    majority_index = df[df[target] == 0].index\n",
        "    minority_index = df[df[target] == 1].index\n",
        "    random_major_index= np.random.choice(majority_index,down,replace=False)\n",
        "    under_sample_index = np.concatenate([minority_index,random_major_index])\n",
        "    under_sample = df.loc[under_sample_index]\n",
        "    return under_sample"
      ],
      "metadata": {
        "id": "StaFxanBZxmp"
      },
      "execution_count": null,
      "outputs": []
    },
    {
      "cell_type": "code",
      "source": [
        "df = underSampling(df,'isFraud')"
      ],
      "metadata": {
        "id": "evu055F9aDYt"
      },
      "execution_count": null,
      "outputs": []
    },
    {
      "cell_type": "markdown",
      "source": [
        "# Data preprocessing for modeling:\n",
        "\n",
        "Scaling numerical variables\n",
        "\n",
        "Encoding categorical columns\n",
        "\n",
        "การประมวลผลข้อมูลล่วงหน้าสำหรับการสร้างแบบจำลอง\n",
        "\n",
        "การปรับขนาดตัวแปรตัวเลข\n",
        "\n",
        "การเข้ารหัสคอลัมน์หมวดหมู่"
      ],
      "metadata": {
        "id": "XOEpNaIOZ0vr"
      }
    },
    {
      "cell_type": "code",
      "source": [
        "num_cols = ['step','oldbalanceOrg','oldbalanceDest','amount']\n",
        "cat_cols = ['type', 'nameDest_code','isFlaggedFraud']"
      ],
      "metadata": {
        "id": "edTYpRrQaQTx"
      },
      "execution_count": null,
      "outputs": []
    },
    {
      "cell_type": "code",
      "source": [
        "def train_test (df,target):\n",
        "    X = df.drop(target,axis = 1)\n",
        "    X = X.iloc[:,:]\n",
        "    y = df[target]   \n",
        "    X_train, X_test, y_train, y_test = train_test_split(X, y, test_size=0.2, random_state=42)\n",
        "    return X_train, X_test, y_train, y_test"
      ],
      "metadata": {
        "id": "2rAwTcpdaUxI"
      },
      "execution_count": null,
      "outputs": []
    },
    {
      "cell_type": "code",
      "source": [
        "X_train, X_test, y_train, y_test = train_test(df,'isFraud')"
      ],
      "metadata": {
        "id": "pnkNpH0baaDr"
      },
      "execution_count": null,
      "outputs": []
    },
    {
      "cell_type": "code",
      "source": [
        "full_pipeline = ColumnTransformer([\n",
        " (\"num\", StandardScaler(), num_cols),\n",
        " (\"cat\", OneHotEncoder(), cat_cols),\n",
        " ])"
      ],
      "metadata": {
        "id": "db9EQS1IaaOp"
      },
      "execution_count": null,
      "outputs": []
    },
    {
      "cell_type": "code",
      "source": [
        "X_train_cleaned= full_pipeline.fit_transform(X_train)\n",
        "X_test_cleaned =full_pipeline.transform(X_test)"
      ],
      "metadata": {
        "id": "sHDEOhaAaaZk"
      },
      "execution_count": null,
      "outputs": []
    },
    {
      "cell_type": "markdown",
      "source": [
        "# Modeling\n",
        "# Performance measures:\n",
        "\n",
        "การสร้างแบบจำลอง\n",
        "\n",
        "มาตรการประสิทธิภาพ"
      ],
      "metadata": {
        "id": "wn16GNfKaUim"
      }
    },
    {
      "cell_type": "code",
      "source": [
        "def printScores(y_test, y_pred):\n",
        "    print('Confusion matrix:\\n',confusion_matrix(y_test, y_pred))\n",
        "    print('accuracy_score',accuracy_score(y_test, y_pred))\n",
        "    print('Recall_score',recall_score(y_test, y_pred))\n",
        "    print('precision_score',precision_score(y_test, y_pred))\n",
        "    print('f1_score',f1_score(y_test,y_pred))    "
      ],
      "metadata": {
        "id": "2KmMyObBa1Bx"
      },
      "execution_count": null,
      "outputs": []
    },
    {
      "cell_type": "code",
      "source": [
        "knn_clf = KNeighborsClassifier()\n",
        "y_train_pred = cross_val_predict(knn_clf,X_train_cleaned,y_train, cv = 10)"
      ],
      "metadata": {
        "id": "-9bTug3Sa4NK"
      },
      "execution_count": null,
      "outputs": []
    },
    {
      "cell_type": "code",
      "source": [
        "printScores(y_train,y_train_pred)"
      ],
      "metadata": {
        "id": "fdeV6U8ra7IZ"
      },
      "execution_count": null,
      "outputs": []
    },
    {
      "cell_type": "markdown",
      "source": [
        "# Grid Search on KNN\n",
        "\n",
        "Due to the problem nature, we cannot accept high false negative rate\n",
        "\n",
        "\n",
        "\n",
        "ค้นหากริดบน KNN\n",
        "\n",
        "เนื่องจากลักษณะของปัญหาเราไม่สามารถยอมรับอัตราการติดลบเท็จที่สูงได้\n"
      ],
      "metadata": {
        "id": "SykrpzR-a-oU"
      }
    },
    {
      "cell_type": "code",
      "source": [
        "param_grid ={'n_neighbors': range(1,30),\n",
        "            'weights':['uniform','distance'],\n",
        "              'algorithm':['auto','ball_tree','kd_tree'],\n",
        "              'leaf_size':[1,2,3,5],\n",
        "              'metric':['minkowski'],\n",
        "              'p': [1,2]\n",
        "              }"
      ],
      "metadata": {
        "id": "fnrYngPtbB23"
      },
      "execution_count": null,
      "outputs": []
    },
    {
      "cell_type": "code",
      "source": [
        "grid = GridSearchCV(knn_clf, param_grid= param_grid, cv = 10, scoring = ['precision', 'recall'],refit='recall')\n",
        "grid.fit(X_train_cleaned, y_train)"
      ],
      "metadata": {
        "id": "GPrCmY19bEk1"
      },
      "execution_count": null,
      "outputs": []
    },
    {
      "cell_type": "code",
      "source": [
        "GridSearchCV(cv=10, estimator=KNeighborsClassifier(),\n",
        "             param_grid={'algorithm': ['auto', 'ball_tree', 'kd_tree'],\n",
        "                         'leaf_size': [1, 2, 3, 5], 'metric': ['minkowski'],\n",
        "                         'n_neighbors': range(1, 30), 'p': [1, 2],\n",
        "                         'weights': ['uniform', 'distance']},\n",
        "             refit='recall', scoring=['precision', 'recall'])"
      ],
      "metadata": {
        "id": "GbQJTBvNbJRV"
      },
      "execution_count": null,
      "outputs": []
    },
    {
      "cell_type": "code",
      "source": [
        "grid.best_estimator_"
      ],
      "metadata": {
        "id": "o4_SlQSBbL74"
      },
      "execution_count": null,
      "outputs": []
    },
    {
      "cell_type": "markdown",
      "source": [
        "KNeighborsClassifier(leaf_size=1, n_neighbors=1, p=1)\n",
        "\n"
      ],
      "metadata": {
        "id": "kuWc8cYMbN1j"
      }
    },
    {
      "cell_type": "code",
      "source": [
        "knn_pred = grid.predict(X_test_cleaned)"
      ],
      "metadata": {
        "id": "j-qErmVGbWko"
      },
      "execution_count": null,
      "outputs": []
    },
    {
      "cell_type": "code",
      "source": [
        "printScores(y_test,knn_pred)"
      ],
      "metadata": {
        "id": "u7v5WzsLbZy4"
      },
      "execution_count": null,
      "outputs": []
    },
    {
      "cell_type": "markdown",
      "source": [
        "# Apply decision trees for better recal:\n",
        "\n",
        "\n",
        "ใช้แผนผังการตัดสินใจเพื่อการจำที่ดีขึ้น\n",
        "# Decision trees:"
      ],
      "metadata": {
        "id": "MwM_IjEVbgTz"
      }
    },
    {
      "cell_type": "code",
      "source": [
        "from sklearn.tree import DecisionTreeClassifier\n",
        "clf_en = DecisionTreeClassifier(criterion='gini', max_depth=9, random_state=0)\n",
        "tree_pred = cross_val_predict(clf_en,X_train_cleaned,y_train,cv = 10)"
      ],
      "metadata": {
        "id": "qVlOnGSbbiEB"
      },
      "execution_count": null,
      "outputs": []
    },
    {
      "cell_type": "code",
      "source": [
        "printScores(y_train,tree_pred)"
      ],
      "metadata": {
        "id": "uPXwn6exblki"
      },
      "execution_count": null,
      "outputs": []
    },
    {
      "cell_type": "markdown",
      "source": [
        "# **Grid search on decision trees:**\n",
        "\n",
        "การค้นหาตารางบนแผนผังการตัดสินใจ"
      ],
      "metadata": {
        "id": "KwZckM3Ubqsr"
      }
    },
    {
      "cell_type": "code",
      "source": [
        "params = {\n",
        "'max_depth':[5,10,20],\n",
        "'min_samples_split':[2,3,5,10],\n",
        "'min_samples_leaf':range(10,20),\n",
        " 'min_impurity_decrease': [0.0001, 0.0005, 0.001, 0.005, 0.01]\n",
        "}"
      ],
      "metadata": {
        "id": "Apspp6hwbnu0"
      },
      "execution_count": null,
      "outputs": []
    },
    {
      "cell_type": "code",
      "source": [
        "c = DecisionTreeClassifier()\n",
        "clf = GridSearchCV(c,param_grid= params,scoring ='recall')"
      ],
      "metadata": {
        "id": "QvYWl3zybuf3"
      },
      "execution_count": null,
      "outputs": []
    },
    {
      "cell_type": "code",
      "source": [
        "clf.fit(X_train_cleaned, y_train)"
      ],
      "metadata": {
        "id": "aBT9CC3abz4c"
      },
      "execution_count": null,
      "outputs": []
    },
    {
      "cell_type": "code",
      "source": [
        "clf.best_estimator_"
      ],
      "metadata": {
        "id": "tGfPPCfCb8S_"
      },
      "execution_count": null,
      "outputs": []
    },
    {
      "cell_type": "code",
      "source": [
        "tree_pred = clf.predict(X_test_cleaned)\n",
        "printScores(y_test, tree_pred)"
      ],
      "metadata": {
        "id": "6_zZG1zEcH5t"
      },
      "execution_count": null,
      "outputs": []
    },
    {
      "cell_type": "markdown",
      "source": [
        "# Decision trees gave a better false negative ratio¶\n",
        "\n",
        " ต้นไม้แห่งการตัดสินใจให้อัตราส่วนลบเท็จที่ดีกว่า"
      ],
      "metadata": {
        "id": "S6hxtNHjcPqo"
      }
    }
  ]
}